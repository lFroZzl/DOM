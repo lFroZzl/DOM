{
 "cells": [
  {
   "cell_type": "markdown",
   "metadata": {},
   "source": [
    "# Pauta de evaluación desafío 2 Introducción a Javascript\n",
    "\n",
    "1. Uso de variables nemotécnicas: **1 punto**\n",
    "- Modularidad del código: **3 puntos**\n",
    "- Similitud con la página web objetivo: **3 puntos**\n",
    "- Correcta identación: **2 puntos**\n",
    "- Consistencia con el uso de punto y coma: **1 punto**\n",
    "\n",
    "**Puntaje total**: 10 puntos"
   ]
  }
 ],
 "metadata": {
  "kernelspec": {
   "display_name": "Python 3",
   "language": "python",
   "name": "python3"
  },
  "language_info": {
   "codemirror_mode": {
    "name": "ipython",
    "version": 3
   },
   "file_extension": ".py",
   "mimetype": "text/x-python",
   "name": "python",
   "nbconvert_exporter": "python",
   "pygments_lexer": "ipython3",
   "version": "3.7.3"
  }
 },
 "nbformat": 4,
 "nbformat_minor": 2
}
